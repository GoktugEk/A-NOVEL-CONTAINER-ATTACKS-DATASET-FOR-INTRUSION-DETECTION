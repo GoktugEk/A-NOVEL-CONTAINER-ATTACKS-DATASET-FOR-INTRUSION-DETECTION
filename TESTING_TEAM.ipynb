{
  "nbformat": 4,
  "nbformat_minor": 0,
  "metadata": {
    "colab": {
      "name": "TESTING TEAM.ipynb",
      "provenance": [],
      "collapsed_sections": [],
      "authorship_tag": "ABX9TyMHRXrz3ln8Nz3bBM7KZXKy",
      "include_colab_link": true
    },
    "kernelspec": {
      "name": "python3",
      "display_name": "Python 3"
    },
    "language_info": {
      "name": "python"
    }
  },
  "cells": [
    {
      "cell_type": "markdown",
      "metadata": {
        "id": "view-in-github",
        "colab_type": "text"
      },
      "source": [
        "<a href=\"https://colab.research.google.com/github/HaleBera/A-NOVEL-CONTAINER-ATTACKS-DATASET-FOR-INTRUSION-DETECTION/blob/main/TESTING_TEAM.ipynb\" target=\"_parent\"><img src=\"https://colab.research.google.com/assets/colab-badge.svg\" alt=\"Open In Colab\"/></a>"
      ]
    },
    {
      "cell_type": "markdown",
      "source": [
        "# STEP 1: GAINING ATTACK KNOWLEDGE\n",
        "\n",
        "*   Learn the **logic & methodology** behind the attack type (CWE) and then the each vulnerability (CVE).\n",
        "*   Define each vulnerability's attack subtype (Blind-SQL Injection), if exists.\n",
        "\n"
      ],
      "metadata": {
        "id": "IUzlHwrR49Rb"
      }
    },
    {
      "cell_type": "markdown",
      "source": [
        "# STEP 2: FINDING ATTACK RELATED COMMANDS, PAYLOADS AND CHEAT SHEATS\n",
        "\n",
        "\n",
        "*   First find a cheat sheet for the related attack type (CWE) (also for each CVE,If exists)\n",
        "    **NOTE:** \n",
        "     \n",
        "\n",
        ">*   The \"cheat sheet\" tab in this link can be helpful https://cheatsheetseries.owasp.org/ \n",
        ">*   https://portswigger.net/web-security/all-labs\n",
        "\n",
        "\n",
        "*   From the chest sheet, find the **payloads** and other additional **commands** that an attacker can use to increase the attack's **effectiveness** or it's **maintanence**.\n",
        "\n",
        "\n"
      ],
      "metadata": {
        "id": "EfI6Rwk0AGAF"
      }
    },
    {
      "cell_type": "markdown",
      "source": [
        "# STEP 3: Attack Scenario Generation\n",
        "\n",
        "1- Expand each Nuclei.yaml that contains the payloads and other commands (i.e. reverse shell seession)\n",
        "\n",
        "*or alternatively*\n",
        "\n",
        "2- **Burpsuit (Free)**: Use the \"Intruder\" tool of Burpsuit. Load payloads to intruder, and start attack to the related URL.*\n",
        "\n",
        "**NOTE:** You can convert and check the encoded payloads by using \"URL Decoder/Encoder\" (https://meyerweb.com/eric/tools/dencoder/). Some payloads may be double encoded, so you need to decode them twice."
      ],
      "metadata": {
        "id": "tFwFzHesnC35"
      }
    },
    {
      "cell_type": "markdown",
      "source": [
        "# EXAMPLE: CWE-78 OS COMMAND INJECTION\n",
        "\n",
        " > STEP 1: GAINING ATTACK KNOWLEDGE\n",
        "\n",
        "\n",
        "> Command injection is an attack in which the** goal is execution of arbitrary commands on the host operating system **via a vulnerable application. Command injection attacks are possible when an application passes unsafe user supplied data (forms, cookies, HTTP headers etc.) to a system shell. In this attack, the attacker-supplied operating system commands are usually executed with the privileges of the vulnerable application. Command injection attacks are possible largely due to insufficient input validation.\n",
        "\n",
        "> This attack differs from Code Injection, in that code injection allows the attacker to add his own code that is then executed by the application. In Command Injection, the attacker extends the default functionality of the application, which execute system commands, without the necessity of injecting code. \n",
        "\n",
        "\n",
        "*   URL 1: https://github.com/payloadbox/command-injection-payload-list\n",
        "\n",
        "\n",
        "\n",
        "\n",
        "\n",
        "> Types of Command Injection\n",
        "\n",
        "    > Result based command injection\n",
        "    > Blind command injection\n",
        "        > The time-based technique (Blind)\n",
        "        > The file-based technique (Semi blind)\n",
        "\n",
        "\n",
        "> CVE-2019-15107 : OS Command\n",
        "\n",
        "> CVE-2020-16846 : Blind-OS Command\n",
        "\n",
        "> CVE-2019-16662 : OS Command\n",
        "> \n",
        "*  URL 2: https://crashtest-security.com/command-injection/\n",
        "\n",
        "*  URL 3: https://www.indusface.com/learning/what-is-command-injection/\n",
        "\n",
        "\n",
        "\n",
        "> STEP 2: FINDING ATTACK RELATED COMMANDS, PAYLOADS AND CHEAT SHEETS\n",
        "\n",
        ">  Cheat Sheet: https://cheatsheetseries.owasp.org/cheatsheets/OS_Command_Injection_Defense_Cheat_Sheet.html\n",
        "\n",
        "> Unix payloads: https://github.com/payloadbox/command-injection-payload-list,\n",
        "\n",
        "> Fuzzing: https://github.com/omurugur/OS_Command_Payload_List/blob/master/OS-Command-Fuzzing.txt\n",
        "\n",
        "\n",
        "\n",
        "\n",
        "> STEP 3: Attack Scenario Generation\n",
        "\n",
        "  > I preparing an extended Nuclei template file, coming soon...\n",
        "\n",
        "  >Till that, you can try the payloads on the Burpsuit and examine the request&reponse reltions."
      ],
      "metadata": {
        "id": "EfhAMjyBKPoA"
      }
    },
    {
      "cell_type": "code",
      "source": [
        ""
      ],
      "metadata": {
        "id": "Ce-GEgjbkm9v"
      },
      "execution_count": null,
      "outputs": []
    },
    {
      "cell_type": "markdown",
      "source": [
        "\n",
        "\n",
        "---\n",
        "CVE-2019-15107 : Apache Webmin RCE\n"
      ],
      "metadata": {
        "id": "SDBiB4VdjnzU"
      }
    },
    {
      "cell_type": "code",
      "source": [
        "# https://github.com/vulhub/vulhub/tree/master/webmin/CVE-2019-15107\n",
        "\n",
        "$ docker-compose up\n"
      ],
      "metadata": {
        "id": "SsEWgvMJkjxg"
      },
      "execution_count": null,
      "outputs": []
    }
  ]
}